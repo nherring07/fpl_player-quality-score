{
 "cells": [
  {
   "cell_type": "code",
   "execution_count": 25,
   "metadata": {},
   "outputs": [],
   "source": [
    "#import modules\n",
    "import pandas as pd\n",
    "import numpy as np\n",
    "import requests\n",
    "from sklearn.linear_model import Lasso\n",
    "pd.options.mode.chained_assignment = None  # default='warn'\n"
   ]
  },
  {
   "cell_type": "markdown",
   "metadata": {},
   "source": [
    "<h5>1. Create weekly player stats dataframe\n"
   ]
  },
  {
   "cell_type": "code",
   "execution_count": 26,
   "metadata": {},
   "outputs": [],
   "source": [
    "def player_data(df):\n",
    "    #import data from FPL API endpoint\n",
    "    data = requests.get('https://fantasy.premierleague.com/api/bootstrap-static/').json()\n",
    "\n",
    "    \n",
    "    #extract relevant columns and player IDs\n",
    "    players_df = pd.DataFrame(data['elements']).dropna(axis=1)\n",
    "    players_df = players_df[players_df.minutes > 0]\n",
    "    players_attr_df = players_df[['id','web_name','element_type','team',]]\n",
    "    player_ids = players_df['id']\n",
    "\n",
    "    if df == 'totals':\n",
    "        return players_df\n",
    "    elif df == 'weekly':\n",
    "        #create empty dataframe to store weekly player data\n",
    "        weekly_df = pd.DataFrame()\n",
    "        #loop through all player IDs, download their weekly data, and append the data ro the weekly_df\n",
    "        for pid in player_ids:\n",
    "            weekly_data = requests.get(f'https://fantasy.premierleague.com/api/element-summary/{pid}/').json()\n",
    "            weekly_player_df = pd.DataFrame(weekly_data['history'])\n",
    "            weekly_df = pd.concat([weekly_df,weekly_player_df],ignore_index=True)\n",
    "\n",
    "        #add player details from players_df and reorganize columns\n",
    "        weekly_df = weekly_df.merge(players_attr_df, how='left', left_on='element',right_on='id')\n",
    "        weekly_df = weekly_df.reindex(columns=['element', 'web_name', 'element_type', 'team','fixture', 'opponent_team', 'total_points', 'was_home',\n",
    "            'kickoff_time', 'team_h_score', 'team_a_score', 'round', 'minutes',\n",
    "            'goals_scored', 'assists', 'clean_sheets', 'goals_conceded',\n",
    "            'own_goals', 'penalties_saved', 'penalties_missed', 'yellow_cards',\n",
    "            'red_cards', 'saves', 'bonus', 'bps', 'influence', 'creativity',\n",
    "            'threat', 'ict_index', 'starts', 'expected_goals', 'expected_assists',\n",
    "            'expected_goal_involvements', 'expected_goals_conceded', 'value',\n",
    "            'transfers_balance', 'selected', 'transfers_in', 'transfers_out'])\n",
    "        return weekly_df"
   ]
  },
  {
   "cell_type": "code",
   "execution_count": 27,
   "metadata": {},
   "outputs": [],
   "source": [
    "weekly_df = player_data('weekly')"
   ]
  },
  {
   "cell_type": "code",
   "execution_count": 28,
   "metadata": {},
   "outputs": [],
   "source": [
    "#create weekly dataframes for each position type\n",
    "gkp_df = weekly_df[weekly_df.element_type == 1] \n",
    "def_df = weekly_df[weekly_df.element_type == 2] \n",
    "mid_df = weekly_df[weekly_df.element_type == 3] \n",
    "fwd_df = weekly_df[weekly_df.element_type == 4]\n",
    "\n",
    "position_dfs = {1: {'df': gkp_df, 'position':'gkp','element_type': 1}, 2: {'df': def_df, 'position':'def','element_type': 2}, 3: { 'df': mid_df,'position':'mid','element_type': 3}, 4: {'df': fwd_df,'position':'fwd','element_type': 4}}"
   ]
  },
  {
   "cell_type": "markdown",
   "metadata": {},
   "source": [
    "<h5>2. Run lasso regression for each position and store feature coefficients in dataframe"
   ]
  },
  {
   "cell_type": "code",
   "execution_count": 29,
   "metadata": {},
   "outputs": [],
   "source": [
    "#Run lasso regression for each position and store feature coefficients in dataframe\n",
    "\n",
    "feat_cols = ['minutes','influence', 'creativity','threat','expected_goals','expected_assists','expected_goal_involvements', 'expected_goals_conceded', 'value']\n",
    "lasso = Lasso()\n",
    "all_coefs = pd.DataFrame()\n",
    "\n",
    "for i in position_dfs:\n",
    "    X = position_dfs[i]['df'][feat_cols].values\n",
    "    y = position_dfs[i]['df']['total_points'].values\n",
    "    position = position_dfs[i]['position']\n",
    "    element_type = position_dfs[i]['element_type']\n",
    "    lasso_coef = lasso.fit(X,y).coef_\n",
    "    this_df = pd.DataFrame({'feature':feat_cols,'lasso_coef': lasso_coef,'element_type': element_type, 'position':position})\n",
    "    all_coefs = pd.concat([all_coefs,this_df], ignore_index=True).sort_values(by='element_type')"
   ]
  },
  {
   "cell_type": "code",
   "execution_count": 30,
   "metadata": {},
   "outputs": [
    {
     "data": {
      "text/plain": [
       "array(['minutes', 'expected_goals_conceded', 'expected_goal_involvements',\n",
       "       'expected_assists', 'value', 'threat', 'creativity', 'influence',\n",
       "       'expected_goals'], dtype=object)"
      ]
     },
     "execution_count": 30,
     "metadata": {},
     "output_type": "execute_result"
    }
   ],
   "source": [
    "all_coefs.feature.unique()"
   ]
  },
  {
   "cell_type": "code",
   "execution_count": 31,
   "metadata": {},
   "outputs": [],
   "source": [
    "totals_df = player_data('totals')\n",
    "totals_cols = ['id','web_name','element_type' ,'minutes','influence', 'creativity','threat','expected_goals','expected_assists','expected_goal_involvements', 'expected_goals_conceded', 'value_form']\n",
    "totals_df = totals_df[totals_cols].rename(columns={'value_form':'value'})\n"
   ]
  },
  {
   "cell_type": "code",
   "execution_count": 32,
   "metadata": {},
   "outputs": [
    {
     "data": {
      "text/html": [
       "<div>\n",
       "<style scoped>\n",
       "    .dataframe tbody tr th:only-of-type {\n",
       "        vertical-align: middle;\n",
       "    }\n",
       "\n",
       "    .dataframe tbody tr th {\n",
       "        vertical-align: top;\n",
       "    }\n",
       "\n",
       "    .dataframe thead th {\n",
       "        text-align: right;\n",
       "    }\n",
       "</style>\n",
       "<table border=\"1\" class=\"dataframe\">\n",
       "  <thead>\n",
       "    <tr style=\"text-align: right;\">\n",
       "      <th></th>\n",
       "      <th>id</th>\n",
       "      <th>web_name</th>\n",
       "      <th>element_type</th>\n",
       "      <th>minutes</th>\n",
       "      <th>influence</th>\n",
       "      <th>creativity</th>\n",
       "      <th>threat</th>\n",
       "      <th>expected_goals</th>\n",
       "      <th>expected_assists</th>\n",
       "      <th>expected_goal_involvements</th>\n",
       "      <th>expected_goals_conceded</th>\n",
       "      <th>value</th>\n",
       "    </tr>\n",
       "  </thead>\n",
       "  <tbody>\n",
       "    <tr>\n",
       "      <th>0</th>\n",
       "      <td>3</td>\n",
       "      <td>Xhaka</td>\n",
       "      <td>3</td>\n",
       "      <td>2293</td>\n",
       "      <td>504.6</td>\n",
       "      <td>557.0</td>\n",
       "      <td>398.0</td>\n",
       "      <td>2.73</td>\n",
       "      <td>3.20</td>\n",
       "      <td>5.93</td>\n",
       "      <td>24.57</td>\n",
       "      <td>0.8</td>\n",
       "    </tr>\n",
       "    <tr>\n",
       "      <th>1</th>\n",
       "      <td>4</td>\n",
       "      <td>Elneny</td>\n",
       "      <td>3</td>\n",
       "      <td>111</td>\n",
       "      <td>4.6</td>\n",
       "      <td>5.4</td>\n",
       "      <td>0.0</td>\n",
       "      <td>0.00</td>\n",
       "      <td>0.04</td>\n",
       "      <td>0.04</td>\n",
       "      <td>1.29</td>\n",
       "      <td>0.0</td>\n",
       "    </tr>\n",
       "    <tr>\n",
       "      <th>2</th>\n",
       "      <td>5</td>\n",
       "      <td>Holding</td>\n",
       "      <td>2</td>\n",
       "      <td>107</td>\n",
       "      <td>23.8</td>\n",
       "      <td>1.4</td>\n",
       "      <td>7.0</td>\n",
       "      <td>0.03</td>\n",
       "      <td>0.01</td>\n",
       "      <td>0.04</td>\n",
       "      <td>0.88</td>\n",
       "      <td>0.1</td>\n",
       "    </tr>\n",
       "    <tr>\n",
       "      <th>3</th>\n",
       "      <td>6</td>\n",
       "      <td>Partey</td>\n",
       "      <td>3</td>\n",
       "      <td>1861</td>\n",
       "      <td>438.0</td>\n",
       "      <td>357.8</td>\n",
       "      <td>216.0</td>\n",
       "      <td>2.37</td>\n",
       "      <td>1.66</td>\n",
       "      <td>4.03</td>\n",
       "      <td>20.94</td>\n",
       "      <td>0.7</td>\n",
       "    </tr>\n",
       "    <tr>\n",
       "      <th>4</th>\n",
       "      <td>7</td>\n",
       "      <td>Ødegaard</td>\n",
       "      <td>3</td>\n",
       "      <td>2311</td>\n",
       "      <td>704.0</td>\n",
       "      <td>919.4</td>\n",
       "      <td>731.0</td>\n",
       "      <td>7.83</td>\n",
       "      <td>6.42</td>\n",
       "      <td>14.25</td>\n",
       "      <td>26.05</td>\n",
       "      <td>0.7</td>\n",
       "    </tr>\n",
       "  </tbody>\n",
       "</table>\n",
       "</div>"
      ],
      "text/plain": [
       "   id  web_name  element_type  minutes influence creativity threat  \\\n",
       "0   3     Xhaka             3     2293     504.6      557.0  398.0   \n",
       "1   4    Elneny             3      111       4.6        5.4    0.0   \n",
       "2   5   Holding             2      107      23.8        1.4    7.0   \n",
       "3   6    Partey             3     1861     438.0      357.8  216.0   \n",
       "4   7  Ødegaard             3     2311     704.0      919.4  731.0   \n",
       "\n",
       "  expected_goals expected_assists expected_goal_involvements  \\\n",
       "0           2.73             3.20                       5.93   \n",
       "1           0.00             0.04                       0.04   \n",
       "2           0.03             0.01                       0.04   \n",
       "3           2.37             1.66                       4.03   \n",
       "4           7.83             6.42                      14.25   \n",
       "\n",
       "  expected_goals_conceded value  \n",
       "0                   24.57   0.8  \n",
       "1                    1.29   0.0  \n",
       "2                    0.88   0.1  \n",
       "3                   20.94   0.7  \n",
       "4                   26.05   0.7  "
      ]
     },
     "execution_count": 32,
     "metadata": {},
     "output_type": "execute_result"
    }
   ],
   "source": [
    "totals_df.head()"
   ]
  },
  {
   "cell_type": "code",
   "execution_count": 33,
   "metadata": {},
   "outputs": [
    {
     "ename": "KeyError",
     "evalue": "'total_points'",
     "output_type": "error",
     "traceback": [
      "\u001b[0;31m---------------------------------------------------------------------------\u001b[0m",
      "\u001b[0;31mKeyError\u001b[0m                                  Traceback (most recent call last)",
      "File \u001b[0;32m~/opt/anaconda3/lib/python3.9/site-packages/pandas/core/indexes/base.py:3802\u001b[0m, in \u001b[0;36mIndex.get_loc\u001b[0;34m(self, key, method, tolerance)\u001b[0m\n\u001b[1;32m   3801\u001b[0m \u001b[39mtry\u001b[39;00m:\n\u001b[0;32m-> 3802\u001b[0m     \u001b[39mreturn\u001b[39;00m \u001b[39mself\u001b[39;49m\u001b[39m.\u001b[39;49m_engine\u001b[39m.\u001b[39;49mget_loc(casted_key)\n\u001b[1;32m   3803\u001b[0m \u001b[39mexcept\u001b[39;00m \u001b[39mKeyError\u001b[39;00m \u001b[39mas\u001b[39;00m err:\n",
      "File \u001b[0;32m~/opt/anaconda3/lib/python3.9/site-packages/pandas/_libs/index.pyx:138\u001b[0m, in \u001b[0;36mpandas._libs.index.IndexEngine.get_loc\u001b[0;34m()\u001b[0m\n",
      "File \u001b[0;32m~/opt/anaconda3/lib/python3.9/site-packages/pandas/_libs/index.pyx:165\u001b[0m, in \u001b[0;36mpandas._libs.index.IndexEngine.get_loc\u001b[0;34m()\u001b[0m\n",
      "File \u001b[0;32mpandas/_libs/hashtable_class_helper.pxi:5745\u001b[0m, in \u001b[0;36mpandas._libs.hashtable.PyObjectHashTable.get_item\u001b[0;34m()\u001b[0m\n",
      "File \u001b[0;32mpandas/_libs/hashtable_class_helper.pxi:5753\u001b[0m, in \u001b[0;36mpandas._libs.hashtable.PyObjectHashTable.get_item\u001b[0;34m()\u001b[0m\n",
      "\u001b[0;31mKeyError\u001b[0m: 'total_points'",
      "\nThe above exception was the direct cause of the following exception:\n",
      "\u001b[0;31mKeyError\u001b[0m                                  Traceback (most recent call last)",
      "\u001b[1;32m/Users/herrn/Documents/GitHub/fpl_player-quality-score/notebook/player_quality_score.ipynb Cell 11\u001b[0m in \u001b[0;36m<cell line: 3>\u001b[0;34m()\u001b[0m\n\u001b[1;32m     <a href='vscode-notebook-cell:/Users/herrn/Documents/GitHub/fpl_player-quality-score/notebook/player_quality_score.ipynb#X13sZmlsZQ%3D%3D?line=9'>10</a>\u001b[0m     weighted_values\u001b[39m.\u001b[39mappend(weighted_value)\n\u001b[1;32m     <a href='vscode-notebook-cell:/Users/herrn/Documents/GitHub/fpl_player-quality-score/notebook/player_quality_score.ipynb#X13sZmlsZQ%3D%3D?line=10'>11</a>\u001b[0m qs \u001b[39m=\u001b[39m \u001b[39msum\u001b[39m(weighted_values)\n\u001b[0;32m---> <a href='vscode-notebook-cell:/Users/herrn/Documents/GitHub/fpl_player-quality-score/notebook/player_quality_score.ipynb#X13sZmlsZQ%3D%3D?line=11'>12</a>\u001b[0m quality_scores\u001b[39m.\u001b[39mappend({\u001b[39m'\u001b[39m\u001b[39mid\u001b[39m\u001b[39m'\u001b[39m: totals_df\u001b[39m.\u001b[39mloc[i][\u001b[39m'\u001b[39m\u001b[39mid\u001b[39m\u001b[39m'\u001b[39m], \u001b[39m'\u001b[39m\u001b[39mname\u001b[39m\u001b[39m'\u001b[39m: totals_df\u001b[39m.\u001b[39mloc[i][\u001b[39m'\u001b[39m\u001b[39mweb_name\u001b[39m\u001b[39m'\u001b[39m], \u001b[39m'\u001b[39m\u001b[39melement_type\u001b[39m\u001b[39m'\u001b[39m:element_type, \u001b[39m'\u001b[39m\u001b[39mtotal_points\u001b[39m\u001b[39m'\u001b[39m: totals_df\u001b[39m.\u001b[39;49mloc[i][\u001b[39m'\u001b[39;49m\u001b[39mtotal_points\u001b[39;49m\u001b[39m'\u001b[39;49m], \u001b[39m'\u001b[39m\u001b[39mquality_score\u001b[39m\u001b[39m'\u001b[39m : qs})\n",
      "File \u001b[0;32m~/opt/anaconda3/lib/python3.9/site-packages/pandas/core/series.py:981\u001b[0m, in \u001b[0;36mSeries.__getitem__\u001b[0;34m(self, key)\u001b[0m\n\u001b[1;32m    978\u001b[0m     \u001b[39mreturn\u001b[39;00m \u001b[39mself\u001b[39m\u001b[39m.\u001b[39m_values[key]\n\u001b[1;32m    980\u001b[0m \u001b[39melif\u001b[39;00m key_is_scalar:\n\u001b[0;32m--> 981\u001b[0m     \u001b[39mreturn\u001b[39;00m \u001b[39mself\u001b[39;49m\u001b[39m.\u001b[39;49m_get_value(key)\n\u001b[1;32m    983\u001b[0m \u001b[39mif\u001b[39;00m is_hashable(key):\n\u001b[1;32m    984\u001b[0m     \u001b[39m# Otherwise index.get_value will raise InvalidIndexError\u001b[39;00m\n\u001b[1;32m    985\u001b[0m     \u001b[39mtry\u001b[39;00m:\n\u001b[1;32m    986\u001b[0m         \u001b[39m# For labels that don't resolve as scalars like tuples and frozensets\u001b[39;00m\n",
      "File \u001b[0;32m~/opt/anaconda3/lib/python3.9/site-packages/pandas/core/series.py:1089\u001b[0m, in \u001b[0;36mSeries._get_value\u001b[0;34m(self, label, takeable)\u001b[0m\n\u001b[1;32m   1086\u001b[0m     \u001b[39mreturn\u001b[39;00m \u001b[39mself\u001b[39m\u001b[39m.\u001b[39m_values[label]\n\u001b[1;32m   1088\u001b[0m \u001b[39m# Similar to Index.get_value, but we do not fall back to positional\u001b[39;00m\n\u001b[0;32m-> 1089\u001b[0m loc \u001b[39m=\u001b[39m \u001b[39mself\u001b[39;49m\u001b[39m.\u001b[39;49mindex\u001b[39m.\u001b[39;49mget_loc(label)\n\u001b[1;32m   1090\u001b[0m \u001b[39mreturn\u001b[39;00m \u001b[39mself\u001b[39m\u001b[39m.\u001b[39mindex\u001b[39m.\u001b[39m_get_values_for_loc(\u001b[39mself\u001b[39m, loc, label)\n",
      "File \u001b[0;32m~/opt/anaconda3/lib/python3.9/site-packages/pandas/core/indexes/base.py:3804\u001b[0m, in \u001b[0;36mIndex.get_loc\u001b[0;34m(self, key, method, tolerance)\u001b[0m\n\u001b[1;32m   3802\u001b[0m     \u001b[39mreturn\u001b[39;00m \u001b[39mself\u001b[39m\u001b[39m.\u001b[39m_engine\u001b[39m.\u001b[39mget_loc(casted_key)\n\u001b[1;32m   3803\u001b[0m \u001b[39mexcept\u001b[39;00m \u001b[39mKeyError\u001b[39;00m \u001b[39mas\u001b[39;00m err:\n\u001b[0;32m-> 3804\u001b[0m     \u001b[39mraise\u001b[39;00m \u001b[39mKeyError\u001b[39;00m(key) \u001b[39mfrom\u001b[39;00m \u001b[39merr\u001b[39;00m\n\u001b[1;32m   3805\u001b[0m \u001b[39mexcept\u001b[39;00m \u001b[39mTypeError\u001b[39;00m:\n\u001b[1;32m   3806\u001b[0m     \u001b[39m# If we have a listlike key, _check_indexing_error will raise\u001b[39;00m\n\u001b[1;32m   3807\u001b[0m     \u001b[39m#  InvalidIndexError. Otherwise we fall through and re-raise\u001b[39;00m\n\u001b[1;32m   3808\u001b[0m     \u001b[39m#  the TypeError.\u001b[39;00m\n\u001b[1;32m   3809\u001b[0m     \u001b[39mself\u001b[39m\u001b[39m.\u001b[39m_check_indexing_error(key)\n",
      "\u001b[0;31mKeyError\u001b[0m: 'total_points'"
     ]
    }
   ],
   "source": [
    "quality_scores = []\n",
    "\n",
    "for i in totals_df.index:\n",
    "    weighted_values = []\n",
    "    element_type = totals_df.loc[i]['element_type']\n",
    "    for c in feat_cols:\n",
    "        coef = float(all_coefs[(all_coefs['feature'] == c) & (all_coefs['element_type'] == element_type)]['lasso_coef'].values)\n",
    "        value = float(totals_df.loc[i][c])\n",
    "        weighted_value = coef * value\n",
    "        weighted_values.append(weighted_value)\n",
    "    qs = sum(weighted_values)\n",
    "    quality_scores.append({'id': totals_df.loc[i]['id'], 'name': totals_df.loc[i]['web_name'], 'element_type':element_type, 'total_points': totals_df.loc[i]['total_points'], 'quality_score' : qs})"
   ]
  },
  {
   "cell_type": "code",
   "execution_count": 45,
   "metadata": {},
   "outputs": [
    {
     "data": {
      "text/plain": [
       "0.020259045043206008"
      ]
     },
     "execution_count": 45,
     "metadata": {},
     "output_type": "execute_result"
    }
   ],
   "source": [
    "coef = (all_coefs[(all_coefs['feature'] == 'minutes') & (all_coefs['element_type'] == 1)]['lasso_coef'].values).item()\n",
    "coef"
   ]
  },
  {
   "cell_type": "code",
   "execution_count": 42,
   "metadata": {},
   "outputs": [
    {
     "data": {
      "text/plain": [
       "0.020259045043206008"
      ]
     },
     "execution_count": 42,
     "metadata": {},
     "output_type": "execute_result"
    }
   ],
   "source": []
  },
  {
   "cell_type": "code",
   "execution_count": null,
   "metadata": {},
   "outputs": [],
   "source": []
  }
 ],
 "metadata": {
  "kernelspec": {
   "display_name": "Python 3.9.12 ('base')",
   "language": "python",
   "name": "python3"
  },
  "language_info": {
   "codemirror_mode": {
    "name": "ipython",
    "version": 3
   },
   "file_extension": ".py",
   "mimetype": "text/x-python",
   "name": "python",
   "nbconvert_exporter": "python",
   "pygments_lexer": "ipython3",
   "version": "3.9.12"
  },
  "orig_nbformat": 4,
  "vscode": {
   "interpreter": {
    "hash": "af5826e48f4b00aa07ff1c66c2c7b1ec934400afb3955719c0c980dcea5e133d"
   }
  }
 },
 "nbformat": 4,
 "nbformat_minor": 2
}
